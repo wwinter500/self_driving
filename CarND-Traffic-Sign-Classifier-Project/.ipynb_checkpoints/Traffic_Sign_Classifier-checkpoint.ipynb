{
 "cells": [
  {
   "cell_type": "markdown",
   "metadata": {},
   "source": [
    "# Self-Driving Car Engineer Nanodegree\n",
    "\n",
    "## Deep Learning\n",
    "\n",
    "## Project: Build a Traffic Sign Recognition Classifier\n",
    "\n",
    "In this notebook, a template is provided for you to implement your functionality in stages, which is required to successfully complete this project. If additional code is required that cannot be included in the notebook, be sure that the Python code is successfully imported and included in your submission if necessary. \n",
    "\n",
    "> **Note**: Once you have completed all of the code implementations, you need to finalize your work by exporting the iPython Notebook as an HTML document. Before exporting the notebook to html, all of the code cells need to have been run so that reviewers can see the final implementation and output. You can then export the notebook by using the menu above and navigating to  \\n\",\n",
    "    \"**File -> Download as -> HTML (.html)**. Include the finished document along with this notebook as your submission. \n",
    "\n",
    "In addition to implementing code, there is a writeup to complete. The writeup should be completed in a separate file, which can be either a markdown file or a pdf document. There is a [write up template](https://github.com/udacity/CarND-Traffic-Sign-Classifier-Project/blob/master/writeup_template.md) that can be used to guide the writing process. Completing the code template and writeup template will cover all of the [rubric points](https://review.udacity.com/#!/rubrics/481/view) for this project.\n",
    "\n",
    "The [rubric](https://review.udacity.com/#!/rubrics/481/view) contains \"Stand Out Suggestions\" for enhancing the project beyond the minimum requirements. The stand out suggestions are optional. If you decide to pursue the \"stand out suggestions\", you can include the code in this Ipython notebook and also discuss the results in the writeup file.\n",
    "\n",
    "\n",
    ">**Note:** Code and Markdown cells can be executed using the **Shift + Enter** keyboard shortcut. In addition, Markdown cells can be edited by typically double-clicking the cell to enter edit mode."
   ]
  },
  {
   "cell_type": "markdown",
   "metadata": {},
   "source": [
    "---\n",
    "## Step 0: Load The Data"
   ]
  },
  {
   "cell_type": "code",
   "execution_count": 1,
   "metadata": {
    "collapsed": false
   },
   "outputs": [],
   "source": [
    "# Load pickled data\n",
    "import pickle\n",
    "import numpy as np\n",
    "# TODO: Fill this in based on where you saved the training and testing data\n",
    "\n",
    "training_file = \"/Users/user/Downloads/Self_Driving/traffic-signs-data/train.p\"\n",
    "validation_file= \"/Users/user/Downloads/Self_Driving/traffic-signs-data/valid.p\"\n",
    "testing_file = \"/Users/user/Downloads/Self_Driving/traffic-signs-data/test.p\"\n",
    "\n",
    "with open(training_file, mode='rb') as f:\n",
    "    train = pickle.load(f)\n",
    "with open(validation_file, mode='rb') as f:\n",
    "    valid = pickle.load(f)\n",
    "with open(testing_file, mode='rb') as f:\n",
    "    test = pickle.load(f)\n",
    "\n",
    "X_train, y_train = train['features'], train['labels']\n",
    "X_valid, y_valid = valid['features'], valid['labels']\n",
    "X_test, y_test = test['features'], test['labels']\n"
   ]
  },
  {
   "cell_type": "code",
   "execution_count": null,
   "metadata": {
    "collapsed": false
   },
   "outputs": [],
   "source": []
  },
  {
   "cell_type": "markdown",
   "metadata": {},
   "source": [
    "---\n",
    "\n",
    "## Step 1: Dataset Summary & Exploration\n",
    "\n",
    "The pickled data is a dictionary with 4 key/value pairs:\n",
    "\n",
    "- `'features'` is a 4D array containing raw pixel data of the traffic sign images, (num examples, width, height, channels).\n",
    "- `'labels'` is a 1D array containing the label/class id of the traffic sign. The file `signnames.csv` contains id -> name mappings for each id.\n",
    "- `'sizes'` is a list containing tuples, (width, height) representing the the original width and height the image.\n",
    "- `'coords'` is a list containing tuples, (x1, y1, x2, y2) representing coordinates of a bounding box around the sign in the image. **THESE COORDINATES ASSUME THE ORIGINAL IMAGE. THE PICKLED DATA CONTAINS RESIZED VERSIONS (32 by 32) OF THESE IMAGES**\n",
    "\n",
    "Complete the basic data summary below. Use python, numpy and/or pandas methods to calculate the data summary rather than hard coding the results. For example, the [pandas shape method](http://pandas.pydata.org/pandas-docs/stable/generated/pandas.DataFrame.shape.html) might be useful for calculating some of the summary results. "
   ]
  },
  {
   "cell_type": "markdown",
   "metadata": {},
   "source": [
    "### Provide a Basic Summary of the Data Set Using Python, Numpy and/or Pandas"
   ]
  },
  {
   "cell_type": "code",
   "execution_count": 2,
   "metadata": {
    "collapsed": false
   },
   "outputs": [
    {
     "name": "stdout",
     "output_type": "stream",
     "text": [
      "Number of training examples = 34799\n",
      "Number of testing examples = 12630\n",
      "Image data shape = (32, 32, 3)\n",
      "Number of classes = 43\n",
      "[ 180 1980 2010 1260 1770 1650  360 1290 1260 1320 1800 1170 1890 1920  690\n",
      "  540  360  990 1080  180  300  270  330  450  240 1350  540  210  480  240\n",
      "  390  690  210  599  360 1080  330  180 1860  270  300  210  210]\n"
     ]
    }
   ],
   "source": [
    "### Replace each question mark with the appropriate value. \n",
    "### Use python, pandas or numpy methods rather than hard coding the results\n",
    "\n",
    "# TODO: Number of training examples\n",
    "n_train = len(X_train)\n",
    "\n",
    "# TODO: Number of testing examples.\n",
    "n_test = len(X_test)\n",
    "\n",
    "# TODO: What's the shape of an traffic sign image?\n",
    "image_shape = X_train[0].shape\n",
    "\n",
    "# TODO: How many unique classes/labels there are in the dataset.\n",
    "a = []\n",
    "for i in range(len(y_train)):\n",
    "    if(i == 0):\n",
    "        a.append(y_train[i])\n",
    "    else:\n",
    "        found = True\n",
    "        for j in range(len(a)):\n",
    "            if(y_train[i] == a[j]):\n",
    "                found = False\n",
    "                break;\n",
    "        if(found):\n",
    "            a.append(y_train[i])\n",
    "\n",
    "n_classes = len(a)\n",
    "\n",
    "print(\"Number of training examples =\", n_train)\n",
    "print(\"Number of testing examples =\", n_test)\n",
    "print(\"Image data shape =\", image_shape)\n",
    "print(\"Number of classes =\", n_classes)\n",
    "\n",
    "#make hashtable to calculate numbers of each label\n",
    "trainD ={}\n",
    "testD = {}\n",
    "for item in a:\n",
    "    trainD[item] = 0\n",
    "    testD[item] = 0\n",
    "    \n",
    "for value in y_train:\n",
    "    trainD[value] += 1\n",
    "for value in y_test:\n",
    "    testD[value] += 1\n",
    "\n",
    "train_num = []\n",
    "test_num = []\n",
    "for k in trainD.keys():\n",
    "    train_num.append(trainD[k])\n",
    "for k in testD.keys():\n",
    "    test_num.append(testD[k])\n",
    "#print(train_num)\n",
    "\n",
    "traindata = np.array(train_num)\n",
    "print(traindata)"
   ]
  },
  {
   "cell_type": "markdown",
   "metadata": {},
   "source": [
    "### Include an exploratory visualization of the dataset"
   ]
  },
  {
   "cell_type": "markdown",
   "metadata": {},
   "source": [
    "Visualize the German Traffic Signs Dataset using the pickled file(s). This is open ended, suggestions include: plotting traffic sign images, plotting the count of each sign, etc.\n",
    "\n",
    "The [Matplotlib](http://matplotlib.org/) [examples](http://matplotlib.org/examples/index.html) and [gallery](http://matplotlib.org/gallery.html) pages are a great resource for doing visualizations in Python.\n",
    "\n",
    "**NOTE:** It's recommended you start with something simple first. If you wish to do more, come back to it after you've completed the rest of the sections."
   ]
  },
  {
   "cell_type": "code",
   "execution_count": 3,
   "metadata": {
    "collapsed": false
   },
   "outputs": [
    {
     "name": "stdout",
     "output_type": "stream",
     "text": [
      "5\n"
     ]
    },
    {
     "data": {
      "image/png": "[encoded data removed]",
      "text/plain": [
       "<matplotlib.figure.Figure at 0x104a85668>"
      ]
     },
     "metadata": {},
     "output_type": "display_data"
    }
   ],
   "source": [
    "### Data exploration visualization code goes here.\n",
    "### Feel free to use as many code cells as needed.\n",
    "import matplotlib.pyplot as plt\n",
    "import random\n",
    "# Visualizations will be shown in the notebook.\n",
    "%matplotlib inline\n",
    "\n",
    "##display just one image\n",
    "index = random.randint(0, len(X_train))\n",
    "\n",
    "image = X_train[index].squeeze()\n",
    "plt.figure(figsize=(1,1))\n",
    "plt.imshow(image, cmap=\"gray\")\n",
    "print(y_train[index])"
   ]
  },
  {
   "cell_type": "code",
   "execution_count": 4,
   "metadata": {
    "collapsed": false
   },
   "outputs": [
    {
     "data": {
      "image/png": "[encoded data removed]",
      "text/plain": [
       "<matplotlib.figure.Figure at 0x104a850b8>"
      ]
     },
     "metadata": {},
     "output_type": "display_data"
    }
   ],
   "source": [
    "##display histogram of training data and test data\n",
    "from matplotlib import pyplot as plt\n",
    "#def drawHistogram(data):\n",
    "plt.xlabel('labels')\n",
    "plt.ylabel('nums')\n",
    "plt.title('Histogram of Train/Test data')\n",
    "index = np.arange(len(train_num)) \n",
    "bar_width = 0.6\n",
    "opacity = 0.8\n",
    "rects1 = plt.bar(index, train_num, bar_width, alpha=opacity, color='b',label='train')\n",
    "rects2 = plt.bar(index, test_num, bar_width, alpha=opacity, color ='g',label='test')\n",
    "plt.ylim(0,2100)\n",
    "plt.show()\n"
   ]
  },
  {
   "cell_type": "markdown",
   "metadata": {},
   "source": [
    "----\n",
    "\n",
    "## Step 2: Design and Test a Model Architecture\n",
    "\n",
    "Design and implement a deep learning model that learns to recognize traffic signs. Train and test your model on the [German Traffic Sign Dataset](http://benchmark.ini.rub.de/?section=gtsrb&subsection=dataset).\n",
    "\n",
    "There are various aspects to consider when thinking about this problem:\n",
    "\n",
    "- Neural network architecture\n",
    "- Play around preprocessing techniques (normalization, rgb to grayscale, etc)\n",
    "- Number of examples per label (some have more than others).\n",
    "- Generate fake data.\n",
    "\n",
    "Here is an example of a [published baseline model on this problem](http://yann.lecun.com/exdb/publis/pdf/sermanet-ijcnn-11.pdf). It's not required to be familiar with the approach used in the paper but, it's good practice to try to read papers like these.\n",
    "\n",
    "**NOTE:** The LeNet-5 implementation shown in the [classroom](https://classroom.udacity.com/nanodegrees/nd013/parts/fbf77062-5703-404e-b60c-95b78b2f3f9e/modules/6df7ae49-c61c-4bb2-a23e-6527e69209ec/lessons/601ae704-1035-4287-8b11-e2c2716217ad/concepts/d4aca031-508f-4e0b-b493-e7b706120f81) at the end of the CNN lesson is a solid starting point. You'll have to change the number of classes and possibly the preprocessing, but aside from that it's plug and play!"
   ]
  },
  {
   "cell_type": "markdown",
   "metadata": {},
   "source": [
    "### Pre-process the Data Set (normalization, grayscale, etc.)"
   ]
  },
  {
   "cell_type": "markdown",
   "metadata": {},
   "source": [
    "Use the code cell (or multiple code cells, if necessary) to implement the first step of your project."
   ]
  },
  {
   "cell_type": "code",
   "execution_count": 5,
   "metadata": {
    "collapsed": false
   },
   "outputs": [],
   "source": [
    "### Preprocess the data here. Preprocessing steps could include normalization, converting to grayscale, etc.\n",
    "### Feel free to use as many code cells as needed.\n",
    "from sklearn.utils import shuffle\n",
    "import tensorflow as tf\n",
    "\n",
    "X_train, y_train = shuffle(X_train, y_train)\n",
    "#print(X_train)"
   ]
  },
  {
   "cell_type": "markdown",
   "metadata": {},
   "source": [
    "### Model Architecture"
   ]
  },
  {
   "cell_type": "code",
   "execution_count": 6,
   "metadata": {
    "collapsed": true
   },
   "outputs": [],
   "source": [
    "### Define your architecture here.\n",
    "### Feel free to use as many code cells as needed.\n",
    "\n",
    "from tensorflow.contrib.layers import flatten\n",
    "\n",
    "def LeNet(x):\n",
    "    #arguments\n",
    "    mu = 0\n",
    "    sigma = 0.1\n",
    "    \n",
    "    x = (x -127.5)/127.5\n",
    "    \n",
    "    #add two new convolutional layers to improve accuracy\n",
    "    conv_W = tf.Variable(tf.truncated_normal(shape=(5,5,3,3), mean = mu, stddev = sigma))\n",
    "    conv_b = tf.Variable(tf.zeros(3))\n",
    "    conv = tf.nn.conv2d(x, conv_W, strides=[1,1,1,1], padding = 'SAME') + conv_b\n",
    "    \n",
    "    conv0 = tf.nn.relu(conv)\n",
    "    conv0_W = tf.Variable(tf.truncated_normal(shape=(5,5,3,6), mean = mu, stddev = sigma))\n",
    "    conv0_b = tf.Variable(tf.zeros(6))\n",
    "    conv0 = tf.nn.conv2d(conv, conv0_W, strides=[1,1,1,1], padding = 'SAME') + conv0_b\n",
    "    conv0 = tf.nn.relu(conv0)\n",
    "    \n",
    "    #conv0 = tf.nn.max_pool(conv0, ksize=[1, 2, 2, 1], strides=[1, 2, 2, 1], padding='SAME')\n",
    "\n",
    "    #lay 1: Input 32*32*C Output: 28*28*6\n",
    "    conv1_W = tf.Variable(tf.truncated_normal(shape=(5,5,6,8), mean = mu, stddev = sigma))\n",
    "    conv1_b = tf.Variable(tf.zeros(8))\n",
    "    conv1 = tf.nn.conv2d(conv0, conv1_W, strides=[1,1,1,1], padding = 'VALID') + conv1_b\n",
    "    \n",
    "    # relu\n",
    "    conv1 = tf.nn.relu(conv1)\n",
    "    \n",
    "    # pool\n",
    "    conv1 = tf.nn.max_pool(conv1, ksize=[1,2,2,1], strides=[1,2,2,1], padding='VALID')\n",
    "    \n",
    "    # SOLUTION: Layer 2: Convolutional. Output = 10x10x16.\n",
    "    conv2_W = tf.Variable(tf.truncated_normal(shape=(5, 5, 8, 16), mean = mu, stddev = sigma))\n",
    "    conv2_b = tf.Variable(tf.zeros(16))\n",
    "    conv2   = tf.nn.conv2d(conv1, conv2_W, strides=[1, 1, 1, 1], padding='VALID') + conv2_b\n",
    "    \n",
    "    # SOLUTION: Activation.\n",
    "    conv2 = tf.nn.relu(conv2)\n",
    "\n",
    "    # SOLUTION: Pooling. Input = 10x10x16. Output = 5x5x16.\n",
    "    conv2 = tf.nn.max_pool(conv2, ksize=[1, 2, 2, 1], strides=[1, 2, 2, 1], padding='VALID')\n",
    "\n",
    "    # SOLUTION: Flatten. Input = 5x5x16. Output = 400.\n",
    "    fc0   = flatten(conv2)\n",
    "    \n",
    "    # SOLUTION: Layer 3: Fully Connected. Input = 400. Output = 120.\n",
    "    fc1_W = tf.Variable(tf.truncated_normal(shape=(400, 120), mean = mu, stddev = sigma))\n",
    "    fc1_b = tf.Variable(tf.zeros(120))\n",
    "    fc1   = tf.matmul(fc0, fc1_W) + fc1_b\n",
    "    \n",
    "    # SOLUTION: Activation.\n",
    "    fc1    = tf.nn.relu(fc1)\n",
    "\n",
    "    # SOLUTION: Layer 4: Fully Connected. Input = 120. Output = 84.\n",
    "    fc2_W  = tf.Variable(tf.truncated_normal(shape=(120, 84), mean = mu, stddev = sigma))\n",
    "    fc2_b  = tf.Variable(tf.zeros(84))\n",
    "    fc2    = tf.matmul(fc1, fc2_W) + fc2_b\n",
    "    \n",
    "    #fc_mean2, fc_var2 = tf.nn.moments(\n",
    "    #    fc2,\n",
    "    #    axes=[0],\n",
    "    #)\n",
    "    #scale2 = tf.Variable(tf.ones([84]))\n",
    "    #shift2 = tf.Variable(tf.zeros([84]))\n",
    "    #fc2 = tf.nn.batch_normalization(fc2, fc_mean2, fc_var2, shift2, scale2, epsilon)\n",
    "    # SOLUTION: Activation.\n",
    "    fc2    = tf.nn.relu(fc2)\n",
    "\n",
    "    # SOLUTION: Layer 5: Fully Connected. Input = 84. Output = n_classes.\n",
    "    fc3_W  = tf.Variable(tf.truncated_normal(shape=(84, n_classes), mean = mu, stddev = sigma))\n",
    "    fc3_b  = tf.Variable(tf.zeros(n_classes))\n",
    "    logits = tf.matmul(fc2, fc3_W) + fc3_b\n",
    "    \n",
    "    #fc_mean3, fc_var3 = tf.nn.moments(\n",
    "    #    fc3,\n",
    "    #    axes=[0],\n",
    "    #)\n",
    "    #scale3 = tf.Variable(tf.ones([43]))\n",
    "    #shift3 = tf.Variable(tf.zeros([43]))\n",
    "    #logits = tf.nn.batch_normalization(fc3, fc_mean3, fc_var3, shift3, scale3, epsilon)\n",
    "    \n",
    "    print(\"called\")\n",
    "    return logits"
   ]
  },
  {
   "cell_type": "markdown",
   "metadata": {},
   "source": [
    "### Train, Validate and Test the Model"
   ]
  },
  {
   "cell_type": "markdown",
   "metadata": {},
   "source": [
    "A validation set can be used to assess how well the model is performing. A low accuracy on the training and validation\n",
    "sets imply underfitting. A high accuracy on the test set but low accuracy on the validation set implies overfitting."
   ]
  },
  {
   "cell_type": "code",
   "execution_count": 8,
   "metadata": {
    "collapsed": false
   },
   "outputs": [
    {
     "name": "stdout",
     "output_type": "stream",
     "text": [
      "called\n",
      "Training...\n",
      "Validation Accuracy = 0.813---1\n",
      "Validation Accuracy = 0.863---2\n",
      "Validation Accuracy = 0.871---3\n",
      "Validation Accuracy = 0.874---4\n",
      "Validation Accuracy = 0.899---5\n",
      "Validation Accuracy = 0.893---6\n",
      "Validation Accuracy = 0.890---7\n",
      "Validation Accuracy = 0.910---8\n",
      "Validation Accuracy = 0.909---9\n",
      "Validation Accuracy = 0.904---10\n",
      "Validation Accuracy = 0.924---11\n",
      "Validation Accuracy = 0.913---12\n",
      "Validation Accuracy = 0.925---13\n",
      "Validation Accuracy = 0.925---14\n",
      "Validation Accuracy = 0.929---15\n",
      "Validation Accuracy = 0.922---16\n",
      "Validation Accuracy = 0.921---17\n",
      "Validation Accuracy = 0.920---18\n",
      "Validation Accuracy = 0.931---19\n",
      "Validation Accuracy = 0.935---20\n",
      "Validation Accuracy = 0.919---21\n",
      "Validation Accuracy = 0.922---22\n",
      "Validation Accuracy = 0.933---23\n",
      "Validation Accuracy = 0.935---24\n",
      "Validation Accuracy = 0.927---25\n",
      "Validation Accuracy = 0.935---26\n",
      "Validation Accuracy = 0.935---27\n",
      "Validation Accuracy = 0.939---28\n",
      "Validation Accuracy = 0.922---29\n",
      "Validation Accuracy = 0.942---30\n",
      "Validation Accuracy = 0.942---31\n",
      "Validation Accuracy = 0.929---32\n",
      "Validation Accuracy = 0.941---33\n",
      "Validation Accuracy = 0.930---34\n",
      "Validation Accuracy = 0.936---35\n",
      "Validation Accuracy = 0.934---36\n",
      "Validation Accuracy = 0.928---37\n",
      "Validation Accuracy = 0.942---38\n",
      "Validation Accuracy = 0.946---39\n",
      "Validation Accuracy = 0.939---40\n",
      "Validation Accuracy = 0.943---41\n",
      "Validation Accuracy = 0.941---42\n",
      "Validation Accuracy = 0.928---43\n",
      "Validation Accuracy = 0.933---44\n",
      "Validation Accuracy = 0.945---45\n",
      "Validation Accuracy = 0.946---46\n",
      "Validation Accuracy = 0.947---47\n",
      "Validation Accuracy = 0.946---48\n",
      "Validation Accuracy = 0.946---49\n",
      "Validation Accuracy = 0.946---50\n",
      "Model saved\n",
      "Test Accuracy = 0.940\n"
     ]
    }
   ],
   "source": [
    "### Train your model here.\n",
    "### Calculate and report the accuracy on the training and validation set.\n",
    "### Once a final model architecture is selected, \n",
    "### the accuracy on the test set should be calculated and reported as well.\n",
    "### Feel free to use as many code cells as needed.\n",
    "\n",
    "EPOCHS = 50\n",
    "BATCH_SIZE = 128\n",
    "\n",
    "x = tf.placeholder(tf.float32, (None, 32, 32, 3))\n",
    "y = tf.placeholder(tf.int32, (None))\n",
    "one_hot_y = tf.one_hot(y, n_classes)\n",
    "\n",
    "logits = LeNet(x)\n",
    "cross_entropy = tf.nn.softmax_cross_entropy_with_logits(logits, one_hot_y)\n",
    "loss_operation = tf.reduce_mean(cross_entropy)\n",
    "\n",
    "rate = 0.001\n",
    "optimizer = tf.train.AdamOptimizer(learning_rate = rate)\n",
    "training_operation = optimizer.minimize(loss_operation)\n",
    "\n",
    "#error estimation\n",
    "correct_prediction = tf.equal(tf.argmax(logits, 1), tf.argmax(one_hot_y, 1))\n",
    "accuracy_operation = tf.reduce_mean(tf.cast(correct_prediction, tf.float32))\n",
    "saver = tf.train.Saver()\n",
    "\n",
    "def evaluate(X_data, y_data):\n",
    "    num_examples = len(X_data)\n",
    "    total_accuracy = 0\n",
    "    sess = tf.get_default_session()\n",
    "    for offset in range(0, num_examples, BATCH_SIZE):\n",
    "        batch_x, batch_y = X_data[offset:offset+BATCH_SIZE], y_data[offset:offset+BATCH_SIZE]\n",
    "        accuracy = sess.run(accuracy_operation, feed_dict={x: batch_x, y: batch_y})\n",
    "        total_accuracy += (accuracy * len(batch_x))\n",
    "    return total_accuracy / num_examples\n",
    "\n",
    "\n",
    "with tf.Session() as sess:\n",
    "    sess.run(tf.global_variables_initializer())\n",
    "    num_examples = len(X_train)\n",
    "    \n",
    "    print(\"Training...\")\n",
    "    for i in range(EPOCHS):\n",
    "        if i == EPOCHS / 2:\n",
    "            rate = 0.005\n",
    "        X_train, y_train = shuffle(X_train, y_train)\n",
    "        for offset in range(0, num_examples, BATCH_SIZE):\n",
    "            end = offset + BATCH_SIZE\n",
    "            batch_x, batch_y = X_train[offset:end], y_train[offset:end]\n",
    "            sess.run(training_operation, feed_dict={x: batch_x, y: batch_y})\n",
    "            \n",
    "        validation_accuracy = evaluate(X_valid, y_valid)\n",
    "        #print(\"EPOCH {} ...\".format(i+1))\n",
    "        print(\"Validation Accuracy = {:.3f}\".format(validation_accuracy)+\"---{:}\".format(i+1))\n",
    "        #print()\n",
    "        \n",
    "    saver.save(sess, './lenet')\n",
    "    print(\"Model saved\")\n",
    "\n",
    "with tf.Session() as sess:\n",
    "    saver.restore(sess, tf.train.latest_checkpoint('.'))\n",
    "    test_accuracy = evaluate(X_test, y_test)\n",
    "    print(\"Test Accuracy = {:.3f}\".format(test_accuracy))"
   ]
  },
  {
   "cell_type": "markdown",
   "metadata": {},
   "source": [
    "---\n",
    "\n",
    "## Step 3: Test a Model on New Images\n",
    "\n",
    "To give yourself more insight into how your model is working, download at least five pictures of German traffic signs from the web and use your model to predict the traffic sign type.\n",
    "\n",
    "You may find `signnames.csv` useful as it contains mappings from the class id (integer) to the actual sign name."
   ]
  },
  {
   "cell_type": "markdown",
   "metadata": {},
   "source": [
    "### Load and Output the Images"
   ]
  },
  {
   "cell_type": "code",
   "execution_count": 9,
   "metadata": {
    "collapsed": false
   },
   "outputs": [],
   "source": [
    "### Load the images and plot them here.\n",
    "### Feel free to use as many code cells as needed.\n",
    "import os\n",
    "import skimage \n",
    "from skimage import data\n",
    "\n",
    "def load_data(data_dir):\n",
    "    directories = [d for d in os.listdir(data_dir) \n",
    "                   if os.path.isdir(os.path.join(data_dir, d))]\n",
    "    \n",
    "    image_list = []\n",
    "    label_list = []  \n",
    "    for d in directories:\n",
    "        label_dir = os.path.join(data_dir,d)\n",
    "        file_names = [os.path.join(label_dir,f)\n",
    "                   for f in os.listdir(label_dir)\n",
    "                   if f.endswith(\".ppm\")]\n",
    "        \n",
    "        for f in file_names:\n",
    "            image_list.append(skimage.data.imread(f))\n",
    "            label_list.append(int(d))\n",
    "    \n",
    "    return image_list,label_list\n"
   ]
  },
  {
   "cell_type": "code",
   "execution_count": 58,
   "metadata": {
    "collapsed": false
   },
   "outputs": [],
   "source": [
    "#just for loading data\n",
    "import matplotlib.pyplot as plt\n",
    "%matplotlib inline\n",
    "\n",
    "newTest_path = \"/Users/user/Downloads/GTSRB/Final_Training/Images\"\n",
    "images, labels = load_data(newTest_path)\n",
    "#print(labels)\n",
    "#print(\"Unique Labels: {0}\\nTotal Images: {1}\".format(len(set(labels)), len(images)))\n",
    "#plt.figure(figsize=(1,1))\n",
    "#plt.imshow(image_list[0], cmap=\"gray\")\n",
    "#print(labels[0])"
   ]
  },
  {
   "cell_type": "code",
   "execution_count": 126,
   "metadata": {
    "collapsed": false
   },
   "outputs": [],
   "source": [
    "import scipy\n",
    "# Pick 100 random images\n",
    "sample_indexes = random.sample(range(len(images)), 5)\n",
    "sample_images = [images[i] for i in sample_indexes]\n",
    "sample_labels = [labels[i] for i in sample_indexes]\n",
    "\n",
    "#pre-proecss before processing\n",
    "#resize\n",
    "images32 = [scipy.misc.imresize(image, (32, 32))\n",
    "                for image in sample_images]\n"
   ]
  },
  {
   "cell_type": "code",
   "execution_count": 141,
   "metadata": {
    "collapsed": false,
    "scrolled": false
   },
   "outputs": [],
   "source": [
    "##get image information -- min, max, brightness, contrast\n",
    "def getContrast(histogram, width, height):\n",
    "    lowIndex = 0\n",
    "    highIndex = 255\n",
    "    lowSum = histogram[lowIndex]\n",
    "    highSum = histogram[highIndex]\n",
    "    for lowIndex in range(0, 255):\n",
    "        if lowSum >= 0.04*width*height:\n",
    "            break;\n",
    "        else:\n",
    "            lowSum += histogram[lowIndex]\n",
    "    \n",
    "    for highIndex in range(255, 0, -1):\n",
    "        if highSum >= 0.04*width*height:\n",
    "            break;\n",
    "        else:\n",
    "            highSum += histogram[highIndex]\n",
    "            \n",
    "    contrast = highIndex - lowIndex\n",
    "    return contrast\n",
    "        \n",
    "import cv2\n",
    "for image in images32:\n",
    "    #plt.figure(figsize=(10,10))\n",
    "    #plt.imshow(image, cmap=\"gray\")\n",
    "    #plt.grid(True)\n",
    "    #plt.xticks([])\n",
    "    #plt.yticks([])\n",
    "    #print(\"shape: {0}, min: {1}, max: {2}\".format(image.shape, image.min(), image.max()))\n",
    "\n",
    "    hist,bins = np.histogram(image.ravel(),256,[0,256])\n",
    "    contrast = getContrast(hist,32,32)\n",
    "    brightness = np.mean(image)"
   ]
  },
  {
   "cell_type": "markdown",
   "metadata": {},
   "source": [
    "### Predict the Sign Type for Each Image"
   ]
  },
  {
   "cell_type": "code",
   "execution_count": 134,
   "metadata": {
    "collapsed": false,
    "scrolled": false
   },
   "outputs": [
    {
     "name": "stdout",
     "output_type": "stream",
     "text": [
      "TopKV2(values=array([ 0.44195893,  0.0447876 ,  0.03804527,  0.03787285,  0.03265823], dtype=float32), indices=array([13, 25, 38, 34,  9], dtype=int32))\n"
     ]
    },
    {
     "data": {
      "image/png": "[encoded data removed]",
      "text/plain": [
       "<matplotlib.figure.Figure at 0x111d5eeb8>"
      ]
     },
     "metadata": {},
     "output_type": "display_data"
    },
    {
     "name": "stdout",
     "output_type": "stream",
     "text": [
      "TopKV2(values=array([ 0.20635591,  0.1434537 ,  0.05008421,  0.04680218,  0.04237425], dtype=float32), indices=array([34, 38, 40, 35, 37], dtype=int32))\n"
     ]
    },
    {
     "data": {
      "image/png": "[encoded data removed]",
      "text/plain": [
       "<matplotlib.figure.Figure at 0x11a86ae10>"
      ]
     },
     "metadata": {},
     "output_type": "display_data"
    },
    {
     "name": "stdout",
     "output_type": "stream",
     "text": [
      "TopKV2(values=array([ 0.42858192,  0.05239325,  0.04333019,  0.03751702,  0.0289826 ], dtype=float32), indices=array([38, 32, 12,  8, 34], dtype=int32))\n"
     ]
    },
    {
     "data": {
      "image/png": "[encoded data removed]",
      "text/plain": [
       "<matplotlib.figure.Figure at 0x162c3c1d0>"
      ]
     },
     "metadata": {},
     "output_type": "display_data"
    },
    {
     "name": "stdout",
     "output_type": "stream",
     "text": [
      "TopKV2(values=array([ 0.29404119,  0.08428058,  0.04591336,  0.04283585,  0.03809851], dtype=float32), indices=array([ 7,  5,  8, 40,  2], dtype=int32))\n"
     ]
    },
    {
     "data": {
      "image/png": "[encoded data removed]",
      "text/plain": [
       "<matplotlib.figure.Figure at 0x176829f60>"
      ]
     },
     "metadata": {},
     "output_type": "display_data"
    },
    {
     "name": "stdout",
     "output_type": "stream",
     "text": [
      "TopKV2(values=array([ 0.30415782,  0.05906209,  0.04737229,  0.03950538,  0.03904079], dtype=float32), indices=array([39, 37, 33,  4, 40], dtype=int32))\n"
     ]
    },
    {
     "data": {
      "image/png": "[encoded data removed]",
      "text/plain": [
       "<matplotlib.figure.Figure at 0x17680e3c8>"
      ]
     },
     "metadata": {},
     "output_type": "display_data"
    }
   ],
   "source": [
    "### Run the predictions here and use the model to output the prediction for each image.\n",
    "### Make sure to pre-process the images with the same pre-processing pipeline used earlier.\n",
    "### Feel free to use as many code cells as needed.\n",
    "##test images based on training model\n",
    "import seaborn as sns\n",
    "\n",
    "def normalize(data, mean, std):\n",
    "    result = [(value - mean) / std for value in data]\n",
    "    return result\n",
    "\n",
    "with tf.Session() as sess:\n",
    "    saver.restore(sess, tf.train.latest_checkpoint('.'))\n",
    "    predictedScore = sess.run(logits, \n",
    "                        feed_dict={x: images32, y: sample_labels})\n",
    "    array = []\n",
    "    predicted = []\n",
    "    for scores in predictedScore:\n",
    "        mean = np.mean(scores)\n",
    "        std = np.std(scores)\n",
    "        normalized = np.array(normalize(scores,mean,std))        \n",
    "        \n",
    "        test_accuracy = sess.run(tf.nn.softmax(normalized))\n",
    "        #print(test_accuracy)\n",
    "        result = sess.run(tf.nn.top_k(test_accuracy, k=5))\n",
    "        #print(result)\n",
    "        predicted.append(np.array(result[1][0]))\n",
    "        \n",
    "        #sns.barplot(x=result[1], y =result[0])\n",
    "        #plt.show()\n",
    "        "
   ]
  },
  {
   "cell_type": "markdown",
   "metadata": {},
   "source": [
    "### Analyze Performance"
   ]
  },
  {
   "cell_type": "code",
   "execution_count": 131,
   "metadata": {
    "collapsed": false
   },
   "outputs": [
    {
     "name": "stdout",
     "output_type": "stream",
     "text": [
      "Predicted Class:13 | True Class: 13\n",
      "Predicted Class:34 | True Class: 34\n",
      "Predicted Class:38 | True Class: 38\n",
      "Predicted Class:7 | True Class: 7\n",
      "Predicted Class:39 | True Class: 39\n",
      "Accuracy on final test = 1.0000\n"
     ]
    }
   ],
   "source": [
    "### Calculate the accuracy for these 5 new images. \n",
    "### For example, if the model predicted 1 out of 5 signs correctly, it's 20% accurate on these new images.\n",
    "\n",
    "#sample test\n",
    "#visualize the result\n",
    "for i in range(0,5):\n",
    "    print(\"Predicted Class:{} | True Class: {}\".format(predicted[i], sample_labels[i]))\n",
    "    \n",
    "HitNum = 0\n",
    "for i in range(len(sample_labels)):\n",
    "    if predicted[i] == sample_labels[i]:\n",
    "        HitNum += 1\n",
    "\n",
    "Accuracy = HitNum / len(sample_labels)\n",
    "print(\"Accuracy on final test = {:.4f}\".format(Accuracy))\n",
    "\n"
   ]
  },
  {
   "cell_type": "markdown",
   "metadata": {},
   "source": [
    "### Output Top 5 Softmax Probabilities For Each Image Found on the Web"
   ]
  },
  {
   "cell_type": "markdown",
   "metadata": {},
   "source": [
    "For each of the new images, print out the model's softmax probabilities to show the **certainty** of the model's predictions (limit the output to the top 5 probabilities for each image). [`tf.nn.top_k`](https://www.tensorflow.org/versions/r0.12/api_docs/python/nn.html#top_k) could prove helpful here. \n",
    "\n",
    "The example below demonstrates how tf.nn.top_k can be used to find the top k predictions for each image.\n",
    "\n",
    "`tf.nn.top_k` will return the values and indices (class ids) of the top k predictions. So if k=3, for each sign, it'll return the 3 largest probabilities (out of a possible 43) and the correspoding class ids.\n",
    "\n",
    "Take this numpy array as an example. The values in the array represent predictions. The array contains softmax probabilities for five candidate images with six possible classes. `tk.nn.top_k` is used to choose the three classes with the highest probability:\n",
    "\n",
    "```\n",
    "# (5, 6) array\n",
    "a = np.array([[ 0.24879643,  0.07032244,  0.12641572,  0.34763842,  0.07893497,\n",
    "         0.12789202],\n",
    "       [ 0.28086119,  0.27569815,  0.08594638,  0.0178669 ,  0.18063401,\n",
    "         0.15899337],\n",
    "       [ 0.26076848,  0.23664738,  0.08020603,  0.07001922,  0.1134371 ,\n",
    "         0.23892179],\n",
    "       [ 0.11943333,  0.29198961,  0.02605103,  0.26234032,  0.1351348 ,\n",
    "         0.16505091],\n",
    "       [ 0.09561176,  0.34396535,  0.0643941 ,  0.16240774,  0.24206137,\n",
    "         0.09155967]])\n",
    "```\n",
    "\n",
    "Running it through `sess.run(tf.nn.top_k(tf.constant(a), k=3))` produces:\n",
    "\n",
    "```\n",
    "TopKV2(values=array([[ 0.34763842,  0.24879643,  0.12789202],\n",
    "       [ 0.28086119,  0.27569815,  0.18063401],\n",
    "       [ 0.26076848,  0.23892179,  0.23664738],\n",
    "       [ 0.29198961,  0.26234032,  0.16505091],\n",
    "       [ 0.34396535,  0.24206137,  0.16240774]]), indices=array([[3, 0, 5],\n",
    "       [0, 1, 4],\n",
    "       [0, 5, 1],\n",
    "       [1, 3, 5],\n",
    "       [1, 4, 3]], dtype=int32))\n",
    "```\n",
    "\n",
    "Looking just at the first row we get `[ 0.34763842,  0.24879643,  0.12789202]`, you can confirm these are the 3 largest probabilities in `a`. You'll also notice `[3, 0, 5]` are the corresponding indices."
   ]
  },
  {
   "cell_type": "code",
   "execution_count": null,
   "metadata": {
    "collapsed": true
   },
   "outputs": [],
   "source": [
    "### Print out the top five softmax probabilities for the predictions on the German traffic sign images found on the web. \n",
    "### Feel free to use as many code cells as needed.\n"
   ]
  },
  {
   "cell_type": "markdown",
   "metadata": {},
   "source": [
    "> **Note**: Once you have completed all of the code implementations, you need to finalize your work by exporting the IPython Notebook as an HTML document. Before exporting the notebook to html, all of the code cells need to have been run. You can then export the notebook by using the menu above and navigating to  \\n\",\n",
    "    \"**File -> Download as -> HTML (.html)**. Include the finished document along with this notebook as your submission. "
   ]
  },
  {
   "cell_type": "markdown",
   "metadata": {},
   "source": [
    "### Project Writeup\n",
    "\n",
    "Once you have completed the code implementation, document your results in a project writeup using this [template](https://github.com/udacity/CarND-Traffic-Sign-Classifier-Project/blob/master/writeup_template.md) as a guide. The writeup can be in a markdown or pdf file. "
   ]
  },
  {
   "cell_type": "code",
   "execution_count": null,
   "metadata": {
    "collapsed": true
   },
   "outputs": [],
   "source": []
  },
  {
   "cell_type": "code",
   "execution_count": null,
   "metadata": {
    "collapsed": true
   },
   "outputs": [],
   "source": []
  },
  {
   "cell_type": "code",
   "execution_count": null,
   "metadata": {
    "collapsed": true
   },
   "outputs": [],
   "source": []
  }
 ],
 "metadata": {
  "anaconda-cloud": {},
  "kernelspec": {
   "display_name": "Python 3",
   "language": "python",
   "name": "python3"
  },
  "language_info": {
   "codemirror_mode": {
    "name": "ipython",
    "version": 3
   },
   "file_extension": ".py",
   "mimetype": "text/x-python",
   "name": "python",
   "nbconvert_exporter": "python",
   "pygments_lexer": "ipython3",
   "version": "3.5.2"
  },
  "widgets": {
   "state": {},
   "version": "1.1.2"
  }
 },
 "nbformat": 4,
 "nbformat_minor": 1
}
